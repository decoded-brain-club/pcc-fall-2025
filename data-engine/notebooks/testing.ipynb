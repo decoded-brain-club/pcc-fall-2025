{
 "cells": [
  {
   "cell_type": "code",
   "execution_count": 1,
   "id": "949c62bd",
   "metadata": {},
   "outputs": [],
   "source": [
    "import sys\n",
    "from pathlib import Path\n",
    "\n",
    "sys.path.insert(0, str(Path().resolve().parent / \"src\")) # Add src/loaders directory to path\n",
    "\n",
    "from loaders.tuh_loader import TUHLoader # type: ignore\n",
    "from config import get_config # type: ignore"
   ]
  },
  {
   "cell_type": "code",
   "execution_count": 2,
   "id": "42101047",
   "metadata": {},
   "outputs": [],
   "source": [
    "# Get configurations\n",
    "config = get_config()"
   ]
  },
  {
   "cell_type": "code",
   "execution_count": 3,
   "id": "5fc43980",
   "metadata": {},
   "outputs": [],
   "source": [
    "# # Initialize the TUHLoader and load TUH dataset\n",
    "# loader = TUHLoader(config, True)\n",
    "# loader.load_data()"
   ]
  },
  {
   "cell_type": "code",
   "execution_count": 4,
   "id": "03788483",
   "metadata": {},
   "outputs": [],
   "source": [
    "# # Save the plots of the first 5 recordings before minimal processing\n",
    "# loader.get_eeg_data_by_index(1).log_plot(\"original\")\n",
    "# loader.get_eeg_data_by_index(3).log_plot(\"original\")\n",
    "# loader.get_eeg_data_by_index(5).log_plot(\"original\")\n",
    "# loader.get_eeg_data_by_index(7).log_plot(\"original\")\n",
    "# loader.get_eeg_data_by_index(9).log_plot(\"original\")"
   ]
  },
  {
   "cell_type": "code",
   "execution_count": 5,
   "id": "773a6bf1",
   "metadata": {},
   "outputs": [],
   "source": [
    "# loader.raw_mode() # Activate engine's raw mode\n",
    "# # Apply bandpass and notch filters, resample, epoch, \n",
    "# # and save as tensors in respective directories\n",
    "# loader.generate_single_channel_epochs(\"filter\")"
   ]
  },
  {
   "cell_type": "code",
   "execution_count": 6,
   "id": "30b55578",
   "metadata": {},
   "outputs": [],
   "source": [
    "# loader.export_state() # Export the current state of the loader for testing"
   ]
  },
  {
   "cell_type": "code",
   "execution_count": 7,
   "id": "cb13333c",
   "metadata": {},
   "outputs": [
    {
     "name": "stdout",
     "output_type": "stream",
     "text": [
      "DatasetLoader state loaded from: /Users/elijahghossein/Documents/GitHub/pcc-fall-2025/data-engine/logs/dataset_loader_raw_20250804_223014.pkl\n",
      "Loaded 4 training, 0 validation, 6 testing files\n",
      "Export timestamp: 2025-08-04T22:30:14.451921\n"
     ]
    }
   ],
   "source": [
    "raw_loader = TUHLoader.load_state(\"/Users/elijahghossein/Documents/GitHub/pcc-fall-2025/data-engine/logs/dataset_loader_raw_20250804_223014.pkl\", config)"
   ]
  },
  {
   "cell_type": "code",
   "execution_count": 8,
   "id": "78f617c9",
   "metadata": {},
   "outputs": [],
   "source": [
    "# raw_loader.get_eeg_data_by_index(1).log_plot(\"raw\")\n",
    "# raw_loader.get_eeg_data_by_index(3).log_plot(\"raw\")\n",
    "# raw_loader.get_eeg_data_by_index(5).log_plot(\"raw\")\n",
    "# raw_loader.get_eeg_data_by_index(7).log_plot(\"raw\")\n",
    "# raw_loader.get_eeg_data_by_index(9).log_plot(\"raw\")"
   ]
  },
  {
   "cell_type": "code",
   "execution_count": null,
   "id": "0d145ced",
   "metadata": {},
   "outputs": [
    {
     "name": "stdout",
     "output_type": "stream",
     "text": [
      "Clearing directories for clean mode...\n",
      "Cleaning done.\n"
     ]
    },
    {
     "data": {
      "application/vnd.jupyter.widget-view+json": {
       "model_id": "07e2477784684077a296c9eb27d87447",
       "version_major": 2,
       "version_minor": 0
      },
      "text/plain": [
       "Generating single-channel epochs: 0it [00:00, ?it/s]"
      ]
     },
     "metadata": {},
     "output_type": "display_data"
    },
    {
     "data": {
      "application/vnd.jupyter.widget-view+json": {
       "model_id": "b53637d175d6427f94514e8c856037b5",
       "version_major": 2,
       "version_minor": 0
      },
      "text/plain": [
       "RELAX: aaaaaall_s004_t000.edf 00:00"
      ]
     },
     "metadata": {},
     "output_type": "display_data"
    },
    {
     "name": "stdout",
     "output_type": "stream",
     "text": [
      "Overwriting existing file.\n",
      "printing bad channels for file: \n",
      "aaaaaall_s004_t000.edf\n",
      "\n",
      "=== Bad Channel Detection Results ===\n",
      "Total bad channels: 3\n",
      "Bad channels: F7-REF, T3-REF, A1-REF\n",
      "=====================================\n",
      "\n",
      "Removing 3 bad channels before MWF cleaning...\n",
      "Removing 3 channel(s)...\n",
      "Channels remaining: 18\n",
      "[RELAX] MATLAB error: \n",
      "  File /Users/elijahghossein/Documents/MATLAB/eeglab2025.0.0/plugins/RELAX2.0.0/RELAX_perform_MWF_cleaning.m, line 55, in RELAX_perform_MWF_cleaning\n",
      "Unrecognized field name \"RELAXProcessing\".\n",
      "\n",
      "printing bad channels for file: \n",
      "aaaaaall_s004_t000.edf\n",
      "\n",
      "=== Bad Channel Detection Results ===\n",
      "Total bad channels: 3\n",
      "Bad channels: F7-REF, T3-REF, A1-REF\n",
      "=====================================\n",
      "\n",
      "Removing 3 bad channels before MWF cleaning...\n",
      "Removing 3 channel(s)...\n",
      "Channels remaining: 18\n",
      "[RELAX] MATLAB error: \n",
      "  File /Users/elijahghossein/Documents/MATLAB/eeglab2025.0.0/plugins/RELAX2.0.0/RELAX_perform_MWF_cleaning.m, line 55, in RELAX_perform_MWF_cleaning\n",
      "Unrecognized field name \"RELAXProcessing\".\n",
      "\n"
     ]
    },
    {
     "ename": "MatlabExecutionError",
     "evalue": "\n  File /Users/elijahghossein/Documents/MATLAB/eeglab2025.0.0/plugins/RELAX2.0.0/RELAX_perform_MWF_cleaning.m, line 55, in RELAX_perform_MWF_cleaning\nUnrecognized field name \"RELAXProcessing\".\n",
     "output_type": "error",
     "traceback": [
      "\u001b[31m---------------------------------------------------------------------------\u001b[39m",
      "\u001b[31mMatlabExecutionError\u001b[39m                      Traceback (most recent call last)",
      "\u001b[36mCell\u001b[39m\u001b[36m \u001b[39m\u001b[32mIn[9]\u001b[39m\u001b[32m, line 4\u001b[39m\n\u001b[32m      1\u001b[39m raw_loader.clean_mode() \u001b[38;5;66;03m# Activate engine's clean mode\u001b[39;00m\n\u001b[32m      2\u001b[39m \u001b[38;5;66;03m# Runs data throught RELAX-inspired cleaning pipeline, \u001b[39;00m\n\u001b[32m      3\u001b[39m \u001b[38;5;66;03m# using PREP, MWF, wICA + ICLabel\u001b[39;00m\n\u001b[32m----> \u001b[39m\u001b[32m4\u001b[39m \u001b[43mraw_loader\u001b[49m\u001b[43m.\u001b[49m\u001b[43mgenerate_single_channel_epochs\u001b[49m\u001b[43m(\u001b[49m\u001b[33;43m\"\u001b[39;49m\u001b[33;43mrelax\u001b[39;49m\u001b[33;43m\"\u001b[39;49m\u001b[43m)\u001b[49m\n",
      "\u001b[36mFile \u001b[39m\u001b[32m~/Documents/GitHub/pcc-fall-2025/data-engine/src/dataset_loader.py:153\u001b[39m, in \u001b[36mDatasetLoader.generate_single_channel_epochs\u001b[39m\u001b[34m(self, process)\u001b[39m\n\u001b[32m    150\u001b[39m     \u001b[38;5;66;03m# Use a simpler progress indicator for RELAX\u001b[39;00m\n\u001b[32m    151\u001b[39m     \u001b[38;5;28;01mwith\u001b[39;00m tqdm(total=\u001b[38;5;28;01mNone\u001b[39;00m, desc=\u001b[33mf\u001b[39m\u001b[33m\"\u001b[39m\u001b[33mRELAX: \u001b[39m\u001b[38;5;132;01m{\u001b[39;00meeg_data.file_name\u001b[38;5;132;01m}\u001b[39;00m\u001b[33m\"\u001b[39m, \n\u001b[32m    152\u001b[39m              bar_format=\u001b[33m'\u001b[39m\u001b[38;5;132;01m{desc}\u001b[39;00m\u001b[33m \u001b[39m\u001b[38;5;132;01m{elapsed}\u001b[39;00m\u001b[33m'\u001b[39m, leave=\u001b[38;5;28;01mFalse\u001b[39;00m) \u001b[38;5;28;01mas\u001b[39;00m pbar:\n\u001b[32m--> \u001b[39m\u001b[32m153\u001b[39m         \u001b[43mprocessor\u001b[49m\u001b[43m.\u001b[49m\u001b[43mrelax_pipeline\u001b[49m\u001b[43m(\u001b[49m\u001b[38;5;28;43mself\u001b[39;49m\u001b[43m.\u001b[49m\u001b[43mconfig\u001b[49m\u001b[43m,\u001b[49m\u001b[43m \u001b[49m\u001b[43mengine\u001b[49m\u001b[43m,\u001b[49m\u001b[43m \u001b[49m\u001b[43meeg_data\u001b[49m\u001b[43m)\u001b[49m\n\u001b[32m    154\u001b[39m \u001b[38;5;28;01melse\u001b[39;00m:\n\u001b[32m    155\u001b[39m     \u001b[38;5;28;01mraise\u001b[39;00m \u001b[38;5;167;01mValueError\u001b[39;00m(\u001b[33mf\u001b[39m\u001b[33m\"\u001b[39m\u001b[33mYou must specify a valid process: \u001b[39m\u001b[33m'\u001b[39m\u001b[33mfilter\u001b[39m\u001b[33m'\u001b[39m\u001b[33m or \u001b[39m\u001b[33m'\u001b[39m\u001b[33martifact_correction\u001b[39m\u001b[33m'\u001b[39m\u001b[33m. Got: \u001b[39m\u001b[38;5;132;01m{\u001b[39;00mprocess\u001b[38;5;132;01m}\u001b[39;00m\u001b[33m\"\u001b[39m)\n",
      "\u001b[36mFile \u001b[39m\u001b[32m~/Documents/GitHub/pcc-fall-2025/data-engine/src/processor.py:116\u001b[39m, in \u001b[36mrelax_pipeline\u001b[39m\u001b[34m(config, engine, eeg_data)\u001b[39m\n\u001b[32m    114\u001b[39m \u001b[38;5;66;03m# Apply Multi-channel Wiener Filter (MWF) to clean muscle, blink, and drift artifacts (x 3)\u001b[39;00m\n\u001b[32m    115\u001b[39m \u001b[38;5;28;01mfor\u001b[39;00m i \u001b[38;5;129;01min\u001b[39;00m \u001b[38;5;28mrange\u001b[39m(config.mwf_passes):\n\u001b[32m--> \u001b[39m\u001b[32m116\u001b[39m     \u001b[43mengine\u001b[49m\u001b[43m.\u001b[49m\u001b[43meval\u001b[49m\u001b[43m(\u001b[49m\u001b[33;43m\"\u001b[39;49m\u001b[33;43mEEG = RELAX_perform_MWF_cleaning(EEG);\u001b[39;49m\u001b[33;43m\"\u001b[39;49m\u001b[43m,\u001b[49m\u001b[43m \u001b[49m\u001b[43mnargout\u001b[49m\u001b[43m=\u001b[49m\u001b[32;43m0\u001b[39;49m\u001b[43m,\u001b[49m\u001b[43m \u001b[49m\u001b[43mstdout\u001b[49m\u001b[43m=\u001b[49m\u001b[43mstdout_buffer\u001b[49m\u001b[43m,\u001b[49m\u001b[43m \u001b[49m\u001b[43mstderr\u001b[49m\u001b[43m=\u001b[49m\u001b[43mstderr_buffer\u001b[49m\u001b[43m)\u001b[49m\n\u001b[32m    118\u001b[39m \u001b[38;5;28;01mraise\u001b[39;00m \u001b[38;5;167;01mException\u001b[39;00m(\u001b[33m\"\u001b[39m\u001b[33mDebugging point\u001b[39m\u001b[33m\"\u001b[39m)\n\u001b[32m    120\u001b[39m \u001b[38;5;66;03m# Run ICA (extended Infomax)\u001b[39;00m\n",
      "\u001b[36mFile \u001b[39m\u001b[32m~/Documents/GitHub/pcc-fall-2025/data-engine/lib/python3.12/site-packages/matlab/engine/matlabengine.py:71\u001b[39m, in \u001b[36mMatlabFunc.__call__\u001b[39m\u001b[34m(self, *args, **kwargs)\u001b[39m\n\u001b[32m     68\u001b[39m     \u001b[38;5;28;01mreturn\u001b[39;00m FutureResult(\u001b[38;5;28mself\u001b[39m._engine(), future, nargs, _stdout, _stderr, feval=\u001b[38;5;28;01mTrue\u001b[39;00m)\n\u001b[32m     69\u001b[39m \u001b[38;5;28;01melse\u001b[39;00m:\n\u001b[32m     70\u001b[39m     \u001b[38;5;28;01mreturn\u001b[39;00m \u001b[43mFutureResult\u001b[49m\u001b[43m(\u001b[49m\u001b[38;5;28;43mself\u001b[39;49m\u001b[43m.\u001b[49m\u001b[43m_engine\u001b[49m\u001b[43m(\u001b[49m\u001b[43m)\u001b[49m\u001b[43m,\u001b[49m\u001b[43m \u001b[49m\u001b[43mfuture\u001b[49m\u001b[43m,\u001b[49m\u001b[43m \u001b[49m\u001b[43mnargs\u001b[49m\u001b[43m,\u001b[49m\u001b[43m \u001b[49m\u001b[43m_stdout\u001b[49m\u001b[43m,\u001b[49m\n\u001b[32m---> \u001b[39m\u001b[32m71\u001b[39m \u001b[43m                        \u001b[49m\u001b[43m_stderr\u001b[49m\u001b[43m,\u001b[49m\u001b[43m \u001b[49m\u001b[43mfeval\u001b[49m\u001b[43m=\u001b[49m\u001b[38;5;28;43;01mTrue\u001b[39;49;00m\u001b[43m)\u001b[49m\u001b[43m.\u001b[49m\u001b[43mresult\u001b[49m\u001b[43m(\u001b[49m\u001b[43m)\u001b[49m\n",
      "\u001b[36mFile \u001b[39m\u001b[32m~/Documents/GitHub/pcc-fall-2025/data-engine/lib/python3.12/site-packages/matlab/engine/futureresult.py:62\u001b[39m, in \u001b[36mFutureResult.result\u001b[39m\u001b[34m(self, timeout)\u001b[39m\n\u001b[32m     59\u001b[39m     \u001b[38;5;28;01mif\u001b[39;00m timeout < \u001b[32m0\u001b[39m:\n\u001b[32m     60\u001b[39m         \u001b[38;5;28;01mraise\u001b[39;00m \u001b[38;5;167;01mTypeError\u001b[39;00m(pythonengine.getMessage(\u001b[33m'\u001b[39m\u001b[33mTimeoutCannotBeNegative\u001b[39m\u001b[33m'\u001b[39m))\n\u001b[32m---> \u001b[39m\u001b[32m62\u001b[39m \u001b[38;5;28;01mreturn\u001b[39;00m \u001b[38;5;28;43mself\u001b[39;49m\u001b[43m.\u001b[49m\u001b[43m__future\u001b[49m\u001b[43m.\u001b[49m\u001b[43mresult\u001b[49m\u001b[43m(\u001b[49m\u001b[43mtimeout\u001b[49m\u001b[43m)\u001b[49m\n",
      "\u001b[36mFile \u001b[39m\u001b[32m~/Documents/GitHub/pcc-fall-2025/data-engine/lib/python3.12/site-packages/matlab/engine/fevalfuture.py:76\u001b[39m, in \u001b[36mFevalFuture.result\u001b[39m\u001b[34m(self, timeout)\u001b[39m\n\u001b[32m     73\u001b[39m \u001b[38;5;28;01mif\u001b[39;00m \u001b[38;5;129;01mnot\u001b[39;00m result_ready:\n\u001b[32m     74\u001b[39m     \u001b[38;5;28;01mraise\u001b[39;00m \u001b[38;5;167;01mTimeoutError\u001b[39;00m(pythonengine.getMessage(\u001b[33m'\u001b[39m\u001b[33mMatlabFunctionTimeout\u001b[39m\u001b[33m'\u001b[39m))\n\u001b[32m---> \u001b[39m\u001b[32m76\u001b[39m \u001b[38;5;28mself\u001b[39m._result = \u001b[43mpythonengine\u001b[49m\u001b[43m.\u001b[49m\u001b[43mgetFEvalResult\u001b[49m\u001b[43m(\u001b[49m\u001b[38;5;28;43mself\u001b[39;49m\u001b[43m.\u001b[49m\u001b[43m_future\u001b[49m\u001b[43m,\u001b[49m\u001b[38;5;28;43mself\u001b[39;49m\u001b[43m.\u001b[49m\u001b[43m_nargout\u001b[49m\u001b[43m,\u001b[49m\u001b[43m \u001b[49m\u001b[38;5;28;43;01mNone\u001b[39;49;00m\u001b[43m,\u001b[49m\u001b[43m \u001b[49m\u001b[43mout\u001b[49m\u001b[43m=\u001b[49m\u001b[38;5;28;43mself\u001b[39;49m\u001b[43m.\u001b[49m\u001b[43m_out\u001b[49m\u001b[43m,\u001b[49m\u001b[43m \u001b[49m\u001b[43merr\u001b[49m\u001b[43m=\u001b[49m\u001b[38;5;28;43mself\u001b[39;49m\u001b[43m.\u001b[49m\u001b[43m_err\u001b[49m\u001b[43m)\u001b[49m\n\u001b[32m     77\u001b[39m \u001b[38;5;28mself\u001b[39m._retrieved = \u001b[38;5;28;01mTrue\u001b[39;00m\n\u001b[32m     78\u001b[39m \u001b[38;5;28;01mreturn\u001b[39;00m \u001b[38;5;28mself\u001b[39m._result\n",
      "\u001b[31mMatlabExecutionError\u001b[39m: \n  File /Users/elijahghossein/Documents/MATLAB/eeglab2025.0.0/plugins/RELAX2.0.0/RELAX_perform_MWF_cleaning.m, line 55, in RELAX_perform_MWF_cleaning\nUnrecognized field name \"RELAXProcessing\".\n"
     ]
    }
   ],
   "source": [
    "raw_loader.clean_mode() # Activate engine's clean mode\n",
    "# Runs data through findNoisyChannels for bad channel detection only\n",
    "# MWF cleaning temporarily disabled until artifact masks are implemented\n",
    "raw_loader.generate_single_channel_epochs(\"relax\")"
   ]
  },
  {
   "cell_type": "code",
   "execution_count": null,
   "id": "35c154e3",
   "metadata": {},
   "outputs": [],
   "source": []
  }
 ],
 "metadata": {
  "kernelspec": {
   "display_name": "data-engine",
   "language": "python",
   "name": "python3"
  },
  "language_info": {
   "codemirror_mode": {
    "name": "ipython",
    "version": 3
   },
   "file_extension": ".py",
   "mimetype": "text/x-python",
   "name": "python",
   "nbconvert_exporter": "python",
   "pygments_lexer": "ipython3",
   "version": "3.12.3"
  }
 },
 "nbformat": 4,
 "nbformat_minor": 5
}
