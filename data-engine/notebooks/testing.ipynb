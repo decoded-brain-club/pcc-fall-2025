{
 "cells": [
  {
   "cell_type": "code",
   "execution_count": 1,
   "id": "949c62bd",
   "metadata": {},
   "outputs": [],
   "source": [
    "import sys\n",
    "from pathlib import Path\n",
    "\n",
    "sys.path.insert(0, str(Path().resolve().parent / \"src\")) # Add src/loaders directory to path\n",
    "\n",
    "from loaders.tuh_loader import TUHLoader # type: ignore\n",
    "from config import get_config # type: ignore"
   ]
  },
  {
   "cell_type": "code",
   "execution_count": 2,
   "id": "42101047",
   "metadata": {},
   "outputs": [],
   "source": [
    "# Get configurations\n",
    "config = get_config()"
   ]
  },
  {
   "cell_type": "code",
   "execution_count": 3,
   "id": "5fc43980",
   "metadata": {},
   "outputs": [],
   "source": [
    "# # Initialize the TUHLoader and load TUH dataset\n",
    "# loader = TUHLoader(config, True)\n",
    "# loader.load_data()\n",
    "\n",
    "# # Save the plots of the first 5 recordings before minimal processing\n",
    "# loader.get_eeg_data_by_index(0).log_plot(\"original\")\n",
    "# loader.get_eeg_data_by_index(1).log_plot(\"original\")\n",
    "# loader.get_eeg_data_by_index(2).log_plot(\"original\")\n",
    "\n",
    "# loader.raw_mode() # Activate engine's raw mode\n",
    "# # Apply bandpass and notch filters, resample, epoch, \n",
    "# # and save as tensors in respective directories\n",
    "# loader.generate_single_channel_epochs(\"filter\")\n",
    "\n",
    "# loader.export_state() # Export the current state of the loader for testing"
   ]
  },
  {
   "cell_type": "code",
   "execution_count": 4,
   "id": "cb13333c",
   "metadata": {},
   "outputs": [
    {
     "name": "stdout",
     "output_type": "stream",
     "text": [
      "DatasetLoader state loaded from: /Users/elijahghossein/Documents/GitHub/pcc-fall-2025/data-engine/logs/dataset_loader_raw_20250806_180021.pkl\n",
      "Loaded 1 training, 0 validation, 2 testing files\n",
      "Export timestamp: 2025-08-06T18:00:21.289950\n"
     ]
    }
   ],
   "source": [
    "raw_loader = TUHLoader.load_state(\"/Users/elijahghossein/Documents/GitHub/pcc-fall-2025/data-engine/logs/dataset_loader_raw_20250806_180021.pkl\", config)\n",
    "\n",
    "# raw_loader.get_eeg_data_by_index(0).log_plot(\"raw\")\n",
    "# raw_loader.get_eeg_data_by_index(1).log_plot(\"raw\")\n",
    "# raw_loader.get_eeg_data_by_index(2).log_plot(\"raw\")"
   ]
  },
  {
   "cell_type": "code",
   "execution_count": 5,
   "id": "0d145ced",
   "metadata": {},
   "outputs": [
    {
     "name": "stdout",
     "output_type": "stream",
     "text": [
      "Clearing directories for clean mode...\n",
      "Cleaning done.\n"
     ]
    },
    {
     "data": {
      "application/vnd.jupyter.widget-view+json": {
       "model_id": "29344ed0dce9482b85fdfd05424a9886",
       "version_major": 2,
       "version_minor": 0
      },
      "text/plain": [
       "Generating single-channel epochs: 0it [00:00, ?it/s]"
      ]
     },
     "metadata": {},
     "output_type": "display_data"
    },
    {
     "data": {
      "application/vnd.jupyter.widget-view+json": {
       "model_id": "0637f608d9da4250a2098a5afaf7efd2",
       "version_major": 2,
       "version_minor": 0
      },
      "text/plain": [
       "RELAX: aaaaaall_s004_t000.edf 00:00"
      ]
     },
     "metadata": {},
     "output_type": "display_data"
    },
    {
     "name": "stdout",
     "output_type": "stream",
     "text": [
      "YAML file loaded successfully into RELAX_cfg structure.\n",
      "Converted HEOGLeftpattern to a string array.\n",
      "Converted HEOGRightpattern to a string array.\n",
      "pop_loadset(): loading file /Users/elijahghossein/Documents/GitHub/pcc-fall-2025/data-engine/matlab/aaaaaall_s004_t000.set ...\n",
      "eeg_checkset note: upper time limit (xmax) adjusted so (xmax-xmin)*srate+1 = number of frames\n",
      "readlocs(): 'BESA' format assumed from file extension\n",
      "BESA header detected, skipping three lines...\n",
      "Readlocs: BESA spherical coords. converted, now deleting BESA fields\n",
      "          to avoid confusion (these fields can be exported, though)\n",
      "19 channel with the same label found and imported\n",
      "Data filtered using a stop zero-phase acausal butterworth filter (order = 4) between 47 and 53 Hz.\n",
      "Data filtered using a high pass zero-phase acausal butterworth filter (order = 4) below 5.000000e-01 Hz.\n",
      "Removing 2 channel(s)...\n",
      "The input dataset will be split into 2900 epochs of 0.5 s\n",
      "Inserting 2900 type 'X' events: .......................................40\n",
      ".......................................80..............................\n",
      ".........120.......................................160....................\n",
      "...................200.......................................240..........\n",
      ".............................280.......................................320\n",
      ".......................................360..............................\n",
      ".........400.......................................440....................\n",
      "...................480.......................................520..........\n",
      ".............................560.......................................600\n",
      ".......................................640..............................\n",
      ".........680.......................................720....................\n",
      "...................760.......................................800..........\n",
      ".............................840.......................................880\n",
      ".......................................920..............................\n",
      ".........960.......................................1000....................\n",
      "...................1040.......................................1080..........\n",
      ".............................1120.......................................1160\n",
      ".......................................1200..............................\n",
      ".........1240.......................................1280....................\n",
      "...................1320.......................................1360..........\n",
      ".............................1400.......................................1440\n",
      ".......................................1480..............................\n",
      ".........1520.......................................1560....................\n",
      "...................1600.......................................1640..........\n",
      ".............................1680.......................................1720\n",
      ".......................................1760..............................\n",
      ".........1800.......................................1840....................\n",
      "...................1880.......................................1920..........\n",
      ".............................1960.......................................2000\n",
      ".......................................2040..............................\n",
      ".........2080.......................................2120....................\n",
      "...................2160.......................................2200..........\n",
      ".............................2240.......................................2280\n",
      ".......................................2320..............................\n",
      ".........2360.......................................2400....................\n",
      "...................2440.......................................2480..........\n",
      ".............................2520.......................................2560\n",
      ".......................................2600..............................\n",
      ".........2640.......................................2680....................\n",
      "...................2720.......................................2760..........\n",
      ".............................2800.......................................2840\n",
      ".......................................2880....................\n",
      "Sorting the event table.\n",
      "pop_epoch():2877 epochs selected\n",
      "Epoching...\n",
      "pop_epoch():2877 epochs generated\n",
      "pop_epoch(): checking epochs for data discontinuity\n",
      "Warning: Do you also want to remove the single-trial ERP baseline, make sure to do so in the EEGLAB menu.\n",
      "Interpolating 2 channels...\n",
      "Re-referencing data\n",
      "Removing 1 channel(s)...\n",
      "Removing 2 channel(s)...\n",
      "Removing 16 channel(s)...\n",
      "electrodes removed here only to average blink affected electrodes to enable blink detection, data still contains 17 electrodes\n",
      "Data filtered using a bandpass zero-phase acausal butterworth filter (order = 4) between 1 and 25 Hz.\n",
      "Filtering here only performed to better detect blinks, output data will still be bandpass filtered from 0.5 to 80\n",
      "eeg_checkset note: events' order (re)sorted by time\n",
      "pop_epoch():23 epochs selected\n",
      "Epoching...\n",
      "pop_epoch():23 epochs generated\n",
      "pop_epoch(): checking epochs for data discontinuity\n",
      "Warning: Do you also want to remove the single-trial ERP baseline, make sure to do so in the EEGLAB menu.\n",
      "Computing kurtosis for channels...\n",
      "Computing all-channel kurtosis...\n",
      "11/2877 trials marked for rejection\n",
      "11 trials marked for rejection\n",
      "Computing joint probability for channels...\n",
      "Computing all-channel probability...\n",
      "28/2877 trials marked for rejection\n",
      "28 trials marked for rejection\n",
      "Warning: ignore the following warnings about trial definition, they are not relevant to this function\n",
      "-------------------------------------------------------------------------------------------\n",
      "FieldTrip is developed by members and collaborators of the Donders Institute for Brain,\n",
      "Cognition and Behaviour at Radboud University, Nijmegen, the Netherlands.\n",
      "\n",
      "                          --------------------------\n",
      "                        /                            \\\n",
      "                     ------------------------------------\n",
      "                    /                                    \\\n",
      "          -------------------------------------------------\n",
      "         /                            /\\/\\/\\/\\/\\ \n",
      "         ---------------------------------------------------\n",
      "                  |        F  i  e  l  d  T  r  i  p       |\n",
      "                  ------------------------------------------\n",
      "                   \\                                      /\n",
      "                     ------------------------------------\n",
      "                          \\            /\n",
      "                            ----------\n",
      "\n",
      "Please cite the FieldTrip reference paper when you have used FieldTrip in your study.\n",
      "Robert Oostenveld, Pascal Fries, Eric Maris, and Jan-Mathijs Schoffelen. FieldTrip: Open\n",
      "Source Software for Advanced Analysis of MEG, EEG, and Invasive Electrophysiological Data.\n",
      "Computational Intelligence and Neuroscience, vol. 2011, Article ID 156869, 9 pages, 2011.\n",
      "doi:10.1155/2011/156869.\n",
      "-------------------------------------------------------------------------------------------\n",
      "the input is raw data with 17 channels and 2877 trials\n",
      "Warning: the data does not contain sampleinfo\n",
      "Warning: reconstructing sampleinfo by assuming that the trials are consecutive segments of a continuous recording\n",
      "the call to \"ft_selectdata\" took 0 seconds and required the additional allocation of an estimated NaN MB\n",
      "processing trials\n",
      "processing trial 24/2877 nfft: 256 samples, datalength: 256 samples, 1 taperprocessing trial 62/2877 nfft: 256 samples, datalength: 256 samples, 1 taperprocessing trial 152/2877 nfft: 256 samples, datalength: 256 samples, 1 tapeprocessing trial 410/2877 nfft: 256 samples, datalength: 256 samples, 1 tapeprocessing trial 650/2877 nfft: 256 samples, datalength: 256 samples, 1 tapeprocessing trial 915/2877 nfft: 256 samples, datalength: 256 samples, 1 tapeprocessing trial 1117/2877 nfft: 256 samples, datalength: 256 samples, 1 taperprocessing trial 1272/2877 nfft: 256 samples, datalength: 256 samples, 1 taperprocessing trial 1437/2877 nfft: 256 samples, datalength: 256 samples, 1 taperprocessing trial 1695/2877 nfft: 256 samples, datalength: 256 samples, 1 taperprocessing trial 1971/2877 nfft: 256 samples, datalength: 256 samples, 1 taperprocessing trial 2248/2877 nfft: 256 samples, datalength: 256 samples, 1 taperprocessing trial 2515/2877 nfft: 256 samples, datalength: 256 samples, 1 taperprocessing trial 2789/2877 nfft: 256 samples, datalength: 256 samples, 1 taperprocessing trial 2877/2877 nfft: 256 samples, datalength: 256 samples, 1 tapers\n",
      "the call to \"ft_freqanalysis\" took 8 seconds and required the additional allocation of an estimated NaN MB\n",
      "Interpolating 2 channels...\n",
      "Re-referencing data\n",
      "Removing 1 channel(s)...\n",
      "Removing 2 channel(s)...\n",
      "Removing 16 channel(s)...\n",
      "electrodes removed here only to average blink affected electrodes to enable blink detection, data still contains 17 electrodes\n",
      "Data filtered using a bandpass zero-phase acausal butterworth filter (order = 4) between 1 and 25 Hz.\n",
      "Filtering here only performed to better detect blinks, output data will still be bandpass filtered from 0.5 to 80\n",
      "Interpolating 2 channels...\n",
      "Re-referencing data\n",
      "Removing 1 channel(s)...\n",
      "Removing 2 channel(s)...\n",
      "Interpolating 2 channels...\n",
      "pop_epoch():14 epochs selected\n",
      "Epoching...\n",
      "pop_epoch():14 epochs generated\n",
      "pop_epoch(): checking epochs for data discontinuity\n",
      "Warning: Do you also want to remove the single-trial ERP baseline, make sure to do so in the EEGLAB menu.\n",
      "Removing 2 trial(s)...\n",
      "Pop_select: removing 12 unreferenced events\n",
      "Warning: ignore the following warnings about trial definition, they are not relevant to this function\n",
      "the input is raw data with 17 channels and 2877 trials\n",
      "Warning: the data does not contain sampleinfo\n",
      "Warning: reconstructing sampleinfo by assuming that the trials are consecutive segments of a continuous recording\n",
      "the call to \"ft_selectdata\" took 0 seconds and required the additional allocation of an estimated NaN MB\n",
      "processing trials\n",
      "processing trial 190/2877 nfft: 256 samples, datalength: 256 samples, 1 tapeprocessing trial 469/2877 nfft: 256 samples, datalength: 256 samples, 1 tapeprocessing trial 746/2877 nfft: 256 samples, datalength: 256 samples, 1 tapeprocessing trial 1021/2877 nfft: 256 samples, datalength: 256 samples, 1 taperprocessing trial 1288/2877 nfft: 256 samples, datalength: 256 samples, 1 taperprocessing trial 1577/2877 nfft: 256 samples, datalength: 256 samples, 1 taperprocessing trial 1884/2877 nfft: 256 samples, datalength: 256 samples, 1 taperprocessing trial 2173/2877 nfft: 256 samples, datalength: 256 samples, 1 taperprocessing trial 2465/2877 nfft: 256 samples, datalength: 256 samples, 1 taperprocessing trial 2766/2877 nfft: 256 samples, datalength: 256 samples, 1 taperprocessing trial 2877/2877 nfft: 256 samples, datalength: 256 samples, 1 tapers\n",
      "the call to \"ft_freqanalysis\" took 1 seconds and required the additional allocation of an estimated NaN MB\n",
      "Data filtered using a low pass zero-phase acausal butterworth filter (order = 4) above 5 Hz.\n",
      "Filtering here only performed to better detect drift, output data will still be bandpass filtered from 0.5 to 80\n",
      "Interpolating 2 channels...\n",
      "Re-referencing data\n",
      "Removing 1 channel(s)...\n",
      "Removing 2 channel(s)...\n",
      "Average re-referencing here only performed to better detect drift, data for the next processing steps will not been average re-referenced yet at this point\n",
      "eeg_insertbound(): 11 boundary (break) events added.\n",
      "Data filtered using a low pass zero-phase acausal butterworth filter (order = 4) above 80 Hz.\n",
      "Interpolating 2 channels...\n",
      "Re-referencing data\n",
      "Removing 1 channel(s)...\n",
      "Removing 2 channel(s)...\n"
     ]
    },
    {
     "name": "stderr",
     "output_type": "stream",
     "text": [
      "Error using pop_runica_nwb (line 252)\n",
      "pop_runica error: wrong value for argument 'icatype'\n",
      "\n",
      "Error in RELAX_targeted_wICA (line 134)\n",
      "        [EEG_with_ICA, ~] = pop_runica_nwb(EEG, 'picard', 'mode','ortho','tol',1e-6,'maxiter',500); % run picard\n",
      "                            ^^^^^^^^^^^^^^^^^^^^^^^^^^^^^^^^^^^^^^^^^^^^^^^^^^^^^^^^^^^^^^^^^^^^^^\n",
      "Error in RELAX_Wrapper (line 496)\n",
      "        [EEG] = RELAX_targeted_wICA(EEG,RELAX_cfg);\n",
      "                ^^^^^^^^^^^^^^^^^^^^^^^^^^^^^^^^^^\n",
      "Error in pop_RELAX (line 650)\n",
      "        RELAXProcessing_ICA_AllParticipants, RELAXProcessingRoundThreeAllParticipants, RELAX_issues_to_check, RELAX_issues_to_check_2nd_run, RELAXProcessingExtremeRejectionsAllParticipants] = RELAX_Wrapper (RELAX_cfg);\n",
      "                                                                                                                                                                                                ^^^^^^^^^^^^^^^^^^^^^^^^^\n",
      "\n"
     ]
    },
    {
     "name": "stdout",
     "output_type": "stream",
     "text": [
      "[RELAX] MATLAB error: \n",
      "  File /Users/elijahghossein/Documents/MATLAB/eeglab2025.0.0/plugins/RELAX2.0.0/pop_runica_nwb.m, line 252, in pop_runica_nwb\n",
      "\n",
      "  File /Users/elijahghossein/Documents/MATLAB/eeglab2025.0.0/plugins/RELAX2.0.0/RELAX_targeted_wICA.m, line 134, in RELAX_targeted_wICA\n",
      "\n",
      "  File /Users/elijahghossein/Documents/MATLAB/eeglab2025.0.0/plugins/RELAX2.0.0/RELAX_Wrapper.m, line 496, in RELAX_Wrapper\n",
      "\n",
      "  File /Users/elijahghossein/Documents/MATLAB/eeglab2025.0.0/plugins/RELAX2.0.0/pop_RELAX.m, line 650, in pop_RELAX\n",
      "pop_runica error: wrong value for argument 'icatype'\n",
      "\n"
     ]
    },
    {
     "ename": "MatlabExecutionError",
     "evalue": "\n  File /Users/elijahghossein/Documents/MATLAB/eeglab2025.0.0/plugins/RELAX2.0.0/pop_runica_nwb.m, line 252, in pop_runica_nwb\n\n  File /Users/elijahghossein/Documents/MATLAB/eeglab2025.0.0/plugins/RELAX2.0.0/RELAX_targeted_wICA.m, line 134, in RELAX_targeted_wICA\n\n  File /Users/elijahghossein/Documents/MATLAB/eeglab2025.0.0/plugins/RELAX2.0.0/RELAX_Wrapper.m, line 496, in RELAX_Wrapper\n\n  File /Users/elijahghossein/Documents/MATLAB/eeglab2025.0.0/plugins/RELAX2.0.0/pop_RELAX.m, line 650, in pop_RELAX\npop_runica error: wrong value for argument 'icatype'\n",
     "output_type": "error",
     "traceback": [
      "\u001b[31m---------------------------------------------------------------------------\u001b[39m",
      "\u001b[31mMatlabExecutionError\u001b[39m                      Traceback (most recent call last)",
      "\u001b[36mCell\u001b[39m\u001b[36m \u001b[39m\u001b[32mIn[5]\u001b[39m\u001b[32m, line 4\u001b[39m\n\u001b[32m      1\u001b[39m raw_loader.clean_mode() \u001b[38;5;66;03m# Activate engine's clean mode\u001b[39;00m\n\u001b[32m      2\u001b[39m \u001b[38;5;66;03m# Runs data through findNoisyChannels for bad channel detection only\u001b[39;00m\n\u001b[32m      3\u001b[39m \u001b[38;5;66;03m# MWF cleaning temporarily disabled until artifact masks are implemented\u001b[39;00m\n\u001b[32m----> \u001b[39m\u001b[32m4\u001b[39m \u001b[43mraw_loader\u001b[49m\u001b[43m.\u001b[49m\u001b[43mgenerate_single_channel_epochs\u001b[49m\u001b[43m(\u001b[49m\u001b[33;43m\"\u001b[39;49m\u001b[33;43mrelax\u001b[39;49m\u001b[33;43m\"\u001b[39;49m\u001b[43m)\u001b[49m\n",
      "\u001b[36mFile \u001b[39m\u001b[32m~/Documents/GitHub/pcc-fall-2025/data-engine/src/dataset_loader.py:153\u001b[39m, in \u001b[36mDatasetLoader.generate_single_channel_epochs\u001b[39m\u001b[34m(self, process)\u001b[39m\n\u001b[32m    150\u001b[39m     \u001b[38;5;66;03m# Use a simpler progress indicator for RELAX\u001b[39;00m\n\u001b[32m    151\u001b[39m     \u001b[38;5;28;01mwith\u001b[39;00m tqdm(total=\u001b[38;5;28;01mNone\u001b[39;00m, desc=\u001b[33mf\u001b[39m\u001b[33m\"\u001b[39m\u001b[33mRELAX: \u001b[39m\u001b[38;5;132;01m{\u001b[39;00meeg_data.file_name\u001b[38;5;132;01m}\u001b[39;00m\u001b[33m\"\u001b[39m, \n\u001b[32m    152\u001b[39m              bar_format=\u001b[33m'\u001b[39m\u001b[38;5;132;01m{desc}\u001b[39;00m\u001b[33m \u001b[39m\u001b[38;5;132;01m{elapsed}\u001b[39;00m\u001b[33m'\u001b[39m, leave=\u001b[38;5;28;01mFalse\u001b[39;00m) \u001b[38;5;28;01mas\u001b[39;00m pbar:\n\u001b[32m--> \u001b[39m\u001b[32m153\u001b[39m         \u001b[43mprocessor\u001b[49m\u001b[43m.\u001b[49m\u001b[43mrelax_pipeline\u001b[49m\u001b[43m(\u001b[49m\u001b[38;5;28;43mself\u001b[39;49m\u001b[43m.\u001b[49m\u001b[43mconfig\u001b[49m\u001b[43m,\u001b[49m\u001b[43m \u001b[49m\u001b[43mengine\u001b[49m\u001b[43m,\u001b[49m\u001b[43m \u001b[49m\u001b[43meeg_data\u001b[49m\u001b[43m)\u001b[49m\n\u001b[32m    154\u001b[39m \u001b[38;5;28;01melse\u001b[39;00m:\n\u001b[32m    155\u001b[39m     \u001b[38;5;28;01mraise\u001b[39;00m \u001b[38;5;167;01mValueError\u001b[39;00m(\u001b[33mf\u001b[39m\u001b[33m\"\u001b[39m\u001b[33mYou must specify a valid process: \u001b[39m\u001b[33m'\u001b[39m\u001b[33mfilter\u001b[39m\u001b[33m'\u001b[39m\u001b[33m or \u001b[39m\u001b[33m'\u001b[39m\u001b[33martifact_correction\u001b[39m\u001b[33m'\u001b[39m\u001b[33m. Got: \u001b[39m\u001b[38;5;132;01m{\u001b[39;00mprocess\u001b[38;5;132;01m}\u001b[39;00m\u001b[33m\"\u001b[39m)\n",
      "\u001b[36mFile \u001b[39m\u001b[32m~/Documents/GitHub/pcc-fall-2025/data-engine/src/processor.py:69\u001b[39m, in \u001b[36mrelax_pipeline\u001b[39m\u001b[34m(config, engine, eeg_data)\u001b[39m\n\u001b[32m     62\u001b[39m matlab_cmd = \u001b[33mf\u001b[39m\u001b[33m\"\"\"\u001b[39m\n\u001b[32m     63\u001b[39m \u001b[33mRELAX_config = load_RELAX_config(\u001b[39m\u001b[33m'\u001b[39m\u001b[33mRELAX_config.yaml\u001b[39m\u001b[33m'\u001b[39m\u001b[33m);\u001b[39m\n\u001b[32m     64\u001b[39m \u001b[33mRELAX_config.myPath = \u001b[39m\u001b[33m'\u001b[39m\u001b[38;5;132;01m{\u001b[39;00mmatlab_workspace\u001b[38;5;132;01m}\u001b[39;00m\u001b[33m/\u001b[39m\u001b[33m'\u001b[39m\u001b[33m;\u001b[39m\n\u001b[32m     65\u001b[39m \u001b[33mRELAX_config.filename = \u001b[39m\u001b[33m'\u001b[39m\u001b[38;5;132;01m{\u001b[39;00mset_path\u001b[38;5;132;01m}\u001b[39;00m\u001b[33m'\u001b[39m\u001b[33m;\u001b[39m\n\u001b[32m     66\u001b[39m \u001b[33m\u001b[39m\u001b[33m\"\"\"\u001b[39m\n\u001b[32m     67\u001b[39m engine.eval(matlab_cmd, nargout=\u001b[32m0\u001b[39m)\n\u001b[32m---> \u001b[39m\u001b[32m69\u001b[39m \u001b[43mengine\u001b[49m\u001b[43m.\u001b[49m\u001b[43meval\u001b[49m\u001b[43m(\u001b[49m\u001b[33;43m\"\u001b[39;49m\u001b[33;43mpop_RELAX(RELAX_config);\u001b[39;49m\u001b[33;43m\"\u001b[39;49m\u001b[43m,\u001b[49m\u001b[43m \u001b[49m\u001b[43mnargout\u001b[49m\u001b[43m=\u001b[49m\u001b[32;43m0\u001b[39;49m\u001b[43m)\u001b[49m\n\u001b[32m     71\u001b[39m \u001b[38;5;28;01mraise\u001b[39;00m \u001b[38;5;167;01mException\u001b[39;00m(\u001b[33m\"\u001b[39m\u001b[33mSuccess!\u001b[39m\u001b[33m\"\u001b[39m)\n\u001b[32m     73\u001b[39m \u001b[38;5;66;03m# # Extract bad channel labels from findNoisyChannels results\u001b[39;00m\n\u001b[32m     74\u001b[39m \u001b[38;5;66;03m# engine.eval(\"bad_channel_indices = EEG.etc.badChannels;\", nargout=0, stdout=stdout_buffer, stderr=stderr_buffer)\u001b[39;00m\n\u001b[32m     75\u001b[39m \u001b[38;5;66;03m# engine.eval(\"if ~isempty(bad_channel_indices), bad_channel_labels = {EEG.chanlocs(bad_channel_indices).labels}; else, bad_channel_labels = {}; end\", nargout=0, stdout=stdout_buffer, stderr=stderr_buffer)\u001b[39;00m\n\u001b[32m   (...)\u001b[39m\u001b[32m     89\u001b[39m \n\u001b[32m     90\u001b[39m \u001b[38;5;66;03m# Save the cleaned data to a new .set file\u001b[39;00m\n",
      "\u001b[36mFile \u001b[39m\u001b[32m~/Documents/GitHub/pcc-fall-2025/data-engine/lib/python3.12/site-packages/matlab/engine/matlabengine.py:71\u001b[39m, in \u001b[36mMatlabFunc.__call__\u001b[39m\u001b[34m(self, *args, **kwargs)\u001b[39m\n\u001b[32m     68\u001b[39m     \u001b[38;5;28;01mreturn\u001b[39;00m FutureResult(\u001b[38;5;28mself\u001b[39m._engine(), future, nargs, _stdout, _stderr, feval=\u001b[38;5;28;01mTrue\u001b[39;00m)\n\u001b[32m     69\u001b[39m \u001b[38;5;28;01melse\u001b[39;00m:\n\u001b[32m     70\u001b[39m     \u001b[38;5;28;01mreturn\u001b[39;00m \u001b[43mFutureResult\u001b[49m\u001b[43m(\u001b[49m\u001b[38;5;28;43mself\u001b[39;49m\u001b[43m.\u001b[49m\u001b[43m_engine\u001b[49m\u001b[43m(\u001b[49m\u001b[43m)\u001b[49m\u001b[43m,\u001b[49m\u001b[43m \u001b[49m\u001b[43mfuture\u001b[49m\u001b[43m,\u001b[49m\u001b[43m \u001b[49m\u001b[43mnargs\u001b[49m\u001b[43m,\u001b[49m\u001b[43m \u001b[49m\u001b[43m_stdout\u001b[49m\u001b[43m,\u001b[49m\n\u001b[32m---> \u001b[39m\u001b[32m71\u001b[39m \u001b[43m                        \u001b[49m\u001b[43m_stderr\u001b[49m\u001b[43m,\u001b[49m\u001b[43m \u001b[49m\u001b[43mfeval\u001b[49m\u001b[43m=\u001b[49m\u001b[38;5;28;43;01mTrue\u001b[39;49;00m\u001b[43m)\u001b[49m\u001b[43m.\u001b[49m\u001b[43mresult\u001b[49m\u001b[43m(\u001b[49m\u001b[43m)\u001b[49m\n",
      "\u001b[36mFile \u001b[39m\u001b[32m~/Documents/GitHub/pcc-fall-2025/data-engine/lib/python3.12/site-packages/matlab/engine/futureresult.py:62\u001b[39m, in \u001b[36mFutureResult.result\u001b[39m\u001b[34m(self, timeout)\u001b[39m\n\u001b[32m     59\u001b[39m     \u001b[38;5;28;01mif\u001b[39;00m timeout < \u001b[32m0\u001b[39m:\n\u001b[32m     60\u001b[39m         \u001b[38;5;28;01mraise\u001b[39;00m \u001b[38;5;167;01mTypeError\u001b[39;00m(pythonengine.getMessage(\u001b[33m'\u001b[39m\u001b[33mTimeoutCannotBeNegative\u001b[39m\u001b[33m'\u001b[39m))\n\u001b[32m---> \u001b[39m\u001b[32m62\u001b[39m \u001b[38;5;28;01mreturn\u001b[39;00m \u001b[38;5;28;43mself\u001b[39;49m\u001b[43m.\u001b[49m\u001b[43m__future\u001b[49m\u001b[43m.\u001b[49m\u001b[43mresult\u001b[49m\u001b[43m(\u001b[49m\u001b[43mtimeout\u001b[49m\u001b[43m)\u001b[49m\n",
      "\u001b[36mFile \u001b[39m\u001b[32m~/Documents/GitHub/pcc-fall-2025/data-engine/lib/python3.12/site-packages/matlab/engine/fevalfuture.py:76\u001b[39m, in \u001b[36mFevalFuture.result\u001b[39m\u001b[34m(self, timeout)\u001b[39m\n\u001b[32m     73\u001b[39m \u001b[38;5;28;01mif\u001b[39;00m \u001b[38;5;129;01mnot\u001b[39;00m result_ready:\n\u001b[32m     74\u001b[39m     \u001b[38;5;28;01mraise\u001b[39;00m \u001b[38;5;167;01mTimeoutError\u001b[39;00m(pythonengine.getMessage(\u001b[33m'\u001b[39m\u001b[33mMatlabFunctionTimeout\u001b[39m\u001b[33m'\u001b[39m))\n\u001b[32m---> \u001b[39m\u001b[32m76\u001b[39m \u001b[38;5;28mself\u001b[39m._result = \u001b[43mpythonengine\u001b[49m\u001b[43m.\u001b[49m\u001b[43mgetFEvalResult\u001b[49m\u001b[43m(\u001b[49m\u001b[38;5;28;43mself\u001b[39;49m\u001b[43m.\u001b[49m\u001b[43m_future\u001b[49m\u001b[43m,\u001b[49m\u001b[38;5;28;43mself\u001b[39;49m\u001b[43m.\u001b[49m\u001b[43m_nargout\u001b[49m\u001b[43m,\u001b[49m\u001b[43m \u001b[49m\u001b[38;5;28;43;01mNone\u001b[39;49;00m\u001b[43m,\u001b[49m\u001b[43m \u001b[49m\u001b[43mout\u001b[49m\u001b[43m=\u001b[49m\u001b[38;5;28;43mself\u001b[39;49m\u001b[43m.\u001b[49m\u001b[43m_out\u001b[49m\u001b[43m,\u001b[49m\u001b[43m \u001b[49m\u001b[43merr\u001b[49m\u001b[43m=\u001b[49m\u001b[38;5;28;43mself\u001b[39;49m\u001b[43m.\u001b[49m\u001b[43m_err\u001b[49m\u001b[43m)\u001b[49m\n\u001b[32m     77\u001b[39m \u001b[38;5;28mself\u001b[39m._retrieved = \u001b[38;5;28;01mTrue\u001b[39;00m\n\u001b[32m     78\u001b[39m \u001b[38;5;28;01mreturn\u001b[39;00m \u001b[38;5;28mself\u001b[39m._result\n",
      "\u001b[31mMatlabExecutionError\u001b[39m: \n  File /Users/elijahghossein/Documents/MATLAB/eeglab2025.0.0/plugins/RELAX2.0.0/pop_runica_nwb.m, line 252, in pop_runica_nwb\n\n  File /Users/elijahghossein/Documents/MATLAB/eeglab2025.0.0/plugins/RELAX2.0.0/RELAX_targeted_wICA.m, line 134, in RELAX_targeted_wICA\n\n  File /Users/elijahghossein/Documents/MATLAB/eeglab2025.0.0/plugins/RELAX2.0.0/RELAX_Wrapper.m, line 496, in RELAX_Wrapper\n\n  File /Users/elijahghossein/Documents/MATLAB/eeglab2025.0.0/plugins/RELAX2.0.0/pop_RELAX.m, line 650, in pop_RELAX\npop_runica error: wrong value for argument 'icatype'\n"
     ]
    }
   ],
   "source": [
    "raw_loader.clean_mode() # Activate engine's clean mode\n",
    "# Runs data through findNoisyChannels for bad channel detection only\n",
    "# MWF cleaning temporarily disabled until artifact masks are implemented\n",
    "raw_loader.generate_single_channel_epochs(\"relax\")"
   ]
  },
  {
   "cell_type": "code",
   "execution_count": null,
   "id": "e68116d9",
   "metadata": {},
   "outputs": [],
   "source": []
  }
 ],
 "metadata": {
  "kernelspec": {
   "display_name": "data-engine",
   "language": "python",
   "name": "python3"
  },
  "language_info": {
   "codemirror_mode": {
    "name": "ipython",
    "version": 3
   },
   "file_extension": ".py",
   "mimetype": "text/x-python",
   "name": "python",
   "nbconvert_exporter": "python",
   "pygments_lexer": "ipython3",
   "version": "3.12.3"
  }
 },
 "nbformat": 4,
 "nbformat_minor": 5
}
