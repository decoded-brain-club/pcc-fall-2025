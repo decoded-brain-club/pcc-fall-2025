{
 "cells": [
  {
   "cell_type": "code",
   "execution_count": null,
   "id": "949c62bd",
   "metadata": {},
   "outputs": [],
   "source": [
    "import sys\n",
    "from pathlib import Path\n",
    "\n",
    "sys.path.insert(0, str(Path().resolve().parent / \"src\")) # Add src/loaders directory to path\n",
    "\n",
    "from loaders.tuh_loader import TUHLoader # type: ignore\n",
    "from config import get_config # type: ignore"
   ]
  },
  {
   "cell_type": "code",
   "execution_count": null,
   "id": "42101047",
   "metadata": {},
   "outputs": [],
   "source": [
    "# Get configurations\n",
    "config = get_config()"
   ]
  },
  {
   "cell_type": "code",
   "execution_count": null,
   "id": "5fc43980",
   "metadata": {},
   "outputs": [],
   "source": [
    "# Initialize the TUHLoader and load TUH dataset\n",
    "loader = TUHLoader(config, True)\n",
    "loader.load_data()\n",
    "\n",
    "## Unprocessed\n",
    "\n",
    "loader.unprocessed_mode() # Ensure loader is in default mode\n",
    "# No filters\n",
    "# Save as tensors in respective directories\n",
    "loader.generate_single_channel_epochs(\"unprocessed\")\n",
    "# Save the plots of the first 5 recordings before minimal processing\n",
    "loader.get_eeg_data_by_index(1).log_plot(\"unprocessed\", start_time=0.0, duration=60.0, scale=20e-6)\n",
    "loader.get_eeg_data_by_index(3).log_plot(\"unprocessed\", start_time=0.0, duration=60.0, scale=20e-6)\n",
    "loader.get_eeg_data_by_index(5).log_plot(\"unprocessed\", start_time=0.0, duration=60.0, scale=20e-6)\n",
    "loader.get_eeg_data_by_index(7).log_plot(\"unprocessed\", start_time=0.0, duration=60.0, scale=20e-6)\n",
    "loader.get_eeg_data_by_index(9).log_plot(\"unprocessed\", start_time=0.0, duration=60.0, scale=20e-6)\n",
    "\n",
    "loader.export_state() # Export the current state of the loader for testing\n",
    "\n"
   ]
  },
  {
   "cell_type": "code",
   "execution_count": null,
   "id": "a547587b",
   "metadata": {},
   "outputs": [],
   "source": [
    "# unprocessed_loader = TUHLoader.load_state(\"PATH TO .pkl FILE, CHECK LOGS FOLDER\", config)"
   ]
  },
  {
   "cell_type": "code",
   "execution_count": null,
   "id": "1acdae84",
   "metadata": {},
   "outputs": [],
   "source": [
    "## Raw\n",
    "\n",
    "loader.raw_mode() # Activate engine's raw mode\n",
    "# Apply bandpass, notch filters and resample\n",
    "# Save as tensors in respective directories\n",
    "loader.generate_single_channel_epochs(\"filter\")\n",
    "# Save the plots of the first 5 recordings after minimal processing\n",
    "loader.get_eeg_data_by_index(1).log_plot(\"raw\", start_time=0.0, duration=60.0, scale=20e-6)\n",
    "loader.get_eeg_data_by_index(3).log_plot(\"raw\", start_time=0.0, duration=60.0, scale=20e-6)\n",
    "loader.get_eeg_data_by_index(5).log_plot(\"raw\", start_time=0.0, duration=60.0, scale=20e-6)\n",
    "loader.get_eeg_data_by_index(7).log_plot(\"raw\", start_time=0.0, duration=60.0, scale=20e-6)\n",
    "loader.get_eeg_data_by_index(9).log_plot(\"raw\", start_time=0.0, duration=60.0, scale=20e-6)\n",
    "\n",
    "loader.export_state() # Export the current state of the loader for testing"
   ]
  },
  {
   "cell_type": "code",
   "execution_count": null,
   "id": "cb13333c",
   "metadata": {},
   "outputs": [],
   "source": [
    "# raw_loader = TUHLoader.load_state(\"PATH TO .pkl FILE, CHECK LOGS FOLDER\", config)"
   ]
  },
  {
   "cell_type": "code",
   "execution_count": null,
   "id": "0d145ced",
   "metadata": {},
   "outputs": [],
   "source": [
    "## Clean\n",
    "\n",
    "loader.clean_mode() # Activate engine's clean mode\n",
    "# Runs data through RELAX pipeline\n",
    "# Save as tensors in respective directories\n",
    "loader.generate_single_channel_epochs(\"relax\")\n",
    "# Save the plots of the first 5 recordings after RELAX processing\n",
    "loader.get_eeg_data_by_index(1).log_plot(\"clean\", start_time=0.0, duration=60.0, scale=20e-6)\n",
    "loader.get_eeg_data_by_index(3).log_plot(\"clean\", start_time=0.0, duration=60.0, scale=20e-6)\n",
    "loader.get_eeg_data_by_index(5).log_plot(\"clean\", start_time=0.0, duration=60.0, scale=20e-6)\n",
    "loader.get_eeg_data_by_index(7).log_plot(\"clean\", start_time=0.0, duration=60.0, scale=20e-6)\n",
    "loader.get_eeg_data_by_index(9).log_plot(\"clean\", start_time=0.0, duration=60.0, scale=20e-6)\n",
    "\n",
    "loader.export_state() # Export the current state of the loader for testing"
   ]
  },
  {
   "cell_type": "code",
   "execution_count": null,
   "id": "143beb5c",
   "metadata": {},
   "outputs": [],
   "source": [
    "# clean_loader = TUHLoader.load_state(\"PATH TO .pkl FILE, CHECK LOGS FOLDER\", config)"
   ]
  },
  {
   "cell_type": "code",
   "execution_count": null,
   "id": "ae763965",
   "metadata": {},
   "outputs": [],
   "source": []
  }
 ],
 "metadata": {
  "kernelspec": {
   "display_name": "data-engine",
   "language": "python",
   "name": "python3"
  },
  "language_info": {
   "codemirror_mode": {
    "name": "ipython",
    "version": 3
   },
   "file_extension": ".py",
   "mimetype": "text/x-python",
   "name": "python",
   "nbconvert_exporter": "python",
   "pygments_lexer": "ipython3",
   "version": "3.12.3"
  }
 },
 "nbformat": 4,
 "nbformat_minor": 5
}
